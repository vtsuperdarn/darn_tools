{
 "cells": [
  {
   "cell_type": "markdown",
   "metadata": {},
   "source": [
    "## Sample codes to test implemented functionalities under \"fit_tools/\"\n",
    "* Print Fit Record\n",
    "* Beam Summary Report\n",
    "* Fetch data using pydarn: pandas and custom classes\n",
    "* Plot Geographic FoV and plot data on top of that"
   ]
  },
  {
   "cell_type": "code",
   "execution_count": 1,
   "metadata": {},
   "outputs": [],
   "source": [
    "import datetime\n",
    "import sys\n",
    "sys.path.append(\"fit_tools/\")\n",
    "sys.path.append(\"utils/\")\n",
    "\n",
    "from fit_records import fetch_print_fit_rec\n",
    "from get_fit_data import FetchData\n",
    "from boxcar_filter import doAJFilter"
   ]
  },
  {
   "cell_type": "code",
   "execution_count": 2,
   "metadata": {},
   "outputs": [
    {
     "name": "stdout",
     "output_type": "stream",
     "text": [
      "Read file -  /sd-data/2017/fitacf/han/20170630.1801.00.han.fitacf.bz2\n",
      "Read file -  /sd-data/2017/fitacf/han/20170630.2001.00.han.fitacf.bz2\n",
      "Read file -  /sd-data/2017/fitacf/han/20170630.2201.00.han.fitacf.bz2\n",
      "\n",
      " Started converting to beam data.\n",
      "\n",
      " Converted to beam data.\n",
      "\n",
      " Started converting to scan data.\n",
      "\n",
      " Converted to scan data.\n"
     ]
    }
   ],
   "source": [
    "start_date = datetime.datetime(2017,6,30,19,59)\n",
    "end_date = datetime.datetime(2017,7,1)\n",
    "rad = \"han\"\n",
    "doAJFilter(rad, start_date, end_date)"
   ]
  },
  {
   "cell_type": "code",
   "execution_count": 3,
   "metadata": {},
   "outputs": [
    {
     "name": "stdout",
     "output_type": "stream",
     "text": [
      "Read file -  /sd-data/2017/fitacf/bks/20170316.2201.00.bks.fitacf.bz2\n",
      "Read file -  /sd-data/2017/fitacf/bks/20170317.0001.00.bks.fitacf.bz2\n",
      "\n",
      " Started converting to beam data.\n",
      "\n",
      " Converted to beam data.\n",
      "\n",
      " Started converting to scan data.\n",
      "\n",
      " Converted to scan data.\n"
     ]
    }
   ],
   "source": [
    "# Fetch data using pydarnio\n",
    "start_date = datetime.datetime(2017,3,17)\n",
    "end_date = datetime.datetime(2017,3,17,0,10)\n",
    "fdata = FetchData( \"bks\", [start_date, end_date] )\n",
    "beams, scans = fdata.fetch_data(by=\"scan\", scan_prop={\"dur\": 2, \"stype\": \"themis\"})"
   ]
  },
  {
   "cell_type": "code",
   "execution_count": 4,
   "metadata": {
    "scrolled": true
   },
   "outputs": [
    {
     "name": "stdout",
     "output_type": "stream",
     "text": [
      "Read file -  /sd-data/2017/fitacf/han/20170630.1801.00.han.fitacf.bz2\n",
      "Read file -  /sd-data/2017/fitacf/han/20170630.2001.00.han.fitacf.bz2\n",
      "\n",
      " Started converting to beam data.\n",
      "\n",
      " Converted to beam data.\n",
      " Data source:\n",
      "                        time  channel  bmnum  scan  tfreq  frang  smsep  rsep  \\\n",
      "0 2017-06-30 20:00:00.047389        1     15     1  11180    180    300    45   \n",
      "1 2017-06-30 20:00:00.047389        2      9     1  11260    180    300    45   \n",
      "2 2017-06-30 20:00:03.207115        1     14     0  11255    180    300    45   \n",
      "3 2017-06-30 20:00:03.207115        2      9     0  11205    180    300    45   \n",
      "4 2017-06-30 20:00:06.266791        1     13     0  11085    180    300    45   \n",
      "5 2017-06-30 20:00:06.266791        2      9     0  11115    180    300    45   \n",
      "6 2017-06-30 20:00:09.336523        1     12     0  11080    180    300    45   \n",
      "7 2017-06-30 20:00:09.336523        2      9     0  11260    180    300    45   \n",
      "8 2017-06-30 20:00:12.446196        1     11     0  11215    180    300    45   \n",
      "9 2017-06-30 20:00:12.446196        2      9     0  11165    180    300    45   \n",
      "\n",
      "      cp  nrang  mppul  lagfr  intt.sc  intt.us   noise.sky  \n",
      "0    153     70      7   1200        3        0  219.500000  \n",
      "1 -26007     70      7   1200        3        0   54.299999  \n",
      "2    153     70      7   1200        3        0  194.500000  \n",
      "3 -26007     70      7   1200        3        0   57.000000  \n",
      "4    153     70      7   1200        3        0  224.699997  \n",
      "5 -26007     70      7   1200        3        0   64.400002  \n",
      "6    153     70      7   1200        3        0  234.600006  \n",
      "7 -26007     70      7   1200        3        0   76.699997  \n",
      "8    153     70      7   1200        3        0  227.100006  \n",
      "9 -26007     70      7   1200        3        0   58.500000  \n",
      " Summary:  1\n",
      "{'rad': 'han', 's_time': 1, 't_beam': -1, 'fname': '/tmp/han.20170630.2000.2010.csv'}\n",
      "Read file -  /sd-data/2017/fitacf/han/20170630.1801.00.han.fitacf.bz2\n",
      "Read file -  /sd-data/2017/fitacf/han/20170630.2001.00.han.fitacf.bz2\n",
      "\n",
      " Started converting to beam data.\n",
      "\n",
      " Converted to beam data.\n",
      "\n",
      " Working through:  han\n",
      "{'fname': '/tmp/han.20170630.2000.2010.txt'}\n"
     ]
    }
   ],
   "source": [
    "# Fetch data using pydarnio\n",
    "start_date = datetime.datetime(2017,6,30,20)\n",
    "end_date = datetime.datetime(2017,6,30,20,10)\n",
    "rad = \"han\"\n",
    "print(fetch_print_fit_rec(rad, start_date, end_date, beam_summ=True, file_type=\"fitacf\", out_file_dir=\"/tmp/\"))\n",
    "print(fetch_print_fit_rec(rad, start_date, end_date, beam_summ=False, file_type=\"fitacf\", out_file_dir=\"/tmp/\"))"
   ]
  }
 ],
 "metadata": {
  "kernelspec": {
   "display_name": "darn_tools",
   "language": "python",
   "name": "darn_tools"
  },
  "language_info": {
   "codemirror_mode": {
    "name": "ipython",
    "version": 3
   },
   "file_extension": ".py",
   "mimetype": "text/x-python",
   "name": "python",
   "nbconvert_exporter": "python",
   "pygments_lexer": "ipython3",
   "version": "3.7.7"
  }
 },
 "nbformat": 4,
 "nbformat_minor": 4
}
